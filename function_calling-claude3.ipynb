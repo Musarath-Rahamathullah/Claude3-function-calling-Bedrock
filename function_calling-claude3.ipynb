{
 "cells": [
  {
   "cell_type": "markdown",
   "id": "c3023ff8-8bab-4c60-aadf-0a9636c27b92",
   "metadata": {
    "tags": []
   },
   "source": [
    "# Function Calling with Claude 3 on Amazon Bedrock\n",
    "\n",
    "Function calling with Claude on Amazon Bedrock is available with legacy tool use structure. An updated version of tool use with Claude will be available on Bedrock soon. Reference [tool-use for more information on this updated feature set](https://docs.anthropic.com/claude/docs/tool-use).\n",
    "\n",
    "With function calling, we can provide Claude with descriptions of tools and functions it can use, Claude is able to intelligently decide based on user query when and how to use those tools to help answer questions and complete tasks. In its response, Claude will suggest the tools to use to complete a task(s) and the paramters that should be passed when calling those functions. The function and its parameters are typically output by Claude in a well-defined format so that the client can parse and run the associated functions. Reference [legacy function calling with Claude](https://docs.anthropic.com/claude/docs/legacy-tool-use#example-legacy-tool-use-prompt).\n",
    "The function calling process involves several steps:\n",
    "\n",
    "1. The user's query and the definitions of the available tools and functions are provided to Claude as part of a single prompt.\n",
    "2. Claude analyzes the user's query and determines which tool(s) or function(s) should be called and with what parameters.\n",
    "3. Claude constructs a properly formatted function call following a specific syntax.\n",
    "4. The client-side code intercepts this function call using a designated stop sequence and executes the actual function.\n",
    "5. The result of the function execution is passed back to Claude.\n",
    "6. Claude incorporates the function result to formulate a final response to the user's query.\n",
    "\n",
    "\n",
    "Let's Look at Weather Check use cases."
   ]
  },
  {
   "cell_type": "markdown",
   "id": "7908326b-e6e0-4989-8998-ed2270052e2c",
   "metadata": {
    "tags": []
   },
   "source": [
    "### SetUp"
   ]
  },
  {
   "cell_type": "code",
   "execution_count": null,
   "id": "85e0f712-3c09-4a45-be53-12e26b9c6c57",
   "metadata": {},
   "outputs": [],
   "source": [
    "!pip install defusedxml\n",
    "!pip install requests\n",
    "!pip install boto3"
   ]
  },
  {
   "cell_type": "code",
   "execution_count": 2,
   "id": "fa8b2b67-081f-4617-b58d-f4d53fd30a3b",
   "metadata": {},
   "outputs": [],
   "source": [
    "# import the libraries\n",
    "import sys\n",
    "from defusedxml import ElementTree\n",
    "from collections import defaultdict\n",
    "import os\n",
    "from typing import Any\n",
    "import tools\n",
    "import boto3\n",
    "import json\n",
    "sys.path.append(os.path.abspath(os.path.join(os.getcwd(), os.pardir)))"
   ]
  },
  {
   "cell_type": "code",
   "execution_count": null,
   "id": "0f12ddfb-15ba-48dc-8ee6-39c33d075bd5",
   "metadata": {},
   "outputs": [],
   "source": [
    "# restart kernel\n",
    "from IPython.core.display import HTML\n",
    "HTML(\"<script>Jupyter.notebook.kernel.restart()</script>\")"
   ]
  },
  {
   "cell_type": "markdown",
   "id": "38c48437-9b67-4337-b43f-c790c4d89d0c",
   "metadata": {},
   "source": [
    "### Define some helper functions"
   ]
  },
  {
   "cell_type": "code",
   "execution_count": 4,
   "id": "bde8097e-b829-4192-9300-5f948cb36e71",
   "metadata": {},
   "outputs": [],
   "source": [
    "# function to create prompt\n",
    "def create_prompt(tools_string, user_input):\n",
    "    message_list = [\n",
    "    {\n",
    "        \"role\": 'user',\n",
    "        \"content\": [ {\"type\": \"text\", \"text\":\n",
    "            f\"\"\"In this environment you have access to a set of tools you can use to answer the user's question.\n",
    "\n",
    "            You may call them like this. Only invoke one function at a time and wait for the results before invoking another function:\n",
    "            <function_calls>\n",
    "            <invoke>\n",
    "            <tool_name>$TOOL_NAME</tool_name>\n",
    "            <parameters>\n",
    "            <$PARAMETER_NAME>$PARAMETER_VALUE</$PARAMETER_NAME>\n",
    "            ...\n",
    "            </parameters>\n",
    "            </invoke>\n",
    "            </function_calls>\n",
    "\n",
    "            Here are the tools available:\n",
    "            <tools>\n",
    "            {tools_string}\n",
    "            </tools>\n",
    "\n",
    "            User query: {user_input}\n",
    "            \"\"\"}\n",
    "        ]\n",
    "    }\n",
    "]\n",
    "\n",
    "    return message_list\n"
   ]
  },
  {
   "cell_type": "code",
   "execution_count": 5,
   "id": "a48cb516-14fb-4a94-913c-20bcf5e56edd",
   "metadata": {},
   "outputs": [],
   "source": [
    "# function to get tool list\n",
    "def add_tools():\n",
    "    tools_string = \"\"\n",
    "    for tool_spec in tools.list_of_tools_specs:\n",
    "        tools_string += tool_spec\n",
    "    return tools_string"
   ]
  },
  {
   "cell_type": "code",
   "execution_count": 6,
   "id": "efcf9378-fee2-4874-903a-2a4eca7f7a49",
   "metadata": {},
   "outputs": [],
   "source": [
    "# Function calling\n",
    "def call_function(tool_name, parameters):\n",
    "    func = getattr(tools, tool_name)\n",
    "    output = func(**parameters)\n",
    "    return output"
   ]
  },
  {
   "cell_type": "code",
   "execution_count": 7,
   "id": "502686f2-f578-4d40-82eb-27f1cd8c2eae",
   "metadata": {},
   "outputs": [],
   "source": [
    "# Format the functions results for input back in to Claude\n",
    "def format_result(tool_name, output):\n",
    "    return f\"\"\"\n",
    "<function_results>\n",
    "<result>\n",
    "<tool_name>{tool_name}</tool_name>\n",
    "<stdout>\n",
    "{output}\n",
    "</stdout>\n",
    "</result>\n",
    "</function_results>\n",
    "\"\"\""
   ]
  },
  {
   "cell_type": "code",
   "execution_count": 8,
   "id": "c74adc7f-c5ab-466c-98fc-c516c01fc11f",
   "metadata": {},
   "outputs": [],
   "source": [
    "def etree_to_dict(t) -> dict[str, Any]:\n",
    "    d = {t.tag: {}}\n",
    "    children = list(t)\n",
    "    if children:\n",
    "        dd = defaultdict(list)\n",
    "        for dc in map(etree_to_dict, children):\n",
    "            for k, v in dc.items():\n",
    "                dd[k].append(v)\n",
    "        d = {t.tag: {k: v[0] if len(v) == 1 else v for k, v in dd.items()}}\n",
    "    if t.attrib:\n",
    "        d[t.tag].update((\"@\" + k, v) for k, v in t.attrib.items())\n",
    "    if t.text and t.text.strip():\n",
    "        if children or t.attrib:\n",
    "            d[t.tag][\"#text\"] = t.text\n",
    "        else:\n",
    "            d[t.tag] = t.text\n",
    "    return d"
   ]
  },
  {
   "cell_type": "markdown",
   "id": "73d1a41b-fead-4cca-9be9-874431cf0b05",
   "metadata": {},
   "source": [
    "### Function Calling Prompt"
   ]
  },
  {
   "cell_type": "code",
   "execution_count": 9,
   "id": "e7382122-3cfc-4200-b36e-d0dbe4a4b04e",
   "metadata": {},
   "outputs": [],
   "source": [
    "def run_loop(prompt_data):\n",
    "    # Start function calling loop\n",
    "    while True:\n",
    "\n",
    "        # initialize variables to make bedrock api call\n",
    "        bedrock = boto3.client(service_name='bedrock-runtime')\n",
    "        modelId = \"anthropic.claude-3-sonnet-20240229-v1:0\"\n",
    "        body=json.dumps(\n",
    "                    {\n",
    "            \"anthropic_version\": \"bedrock-2023-05-31\",\n",
    "            \"max_tokens\": 1024,\n",
    "            \"messages\": prompt_data,\n",
    "            \"temperature\": 0,\n",
    "            \"top_p\": 1,\n",
    "            \"system\": '',\n",
    "            \"stop_sequences\":[\"</function_calls>\"]\n",
    "            }  \n",
    "            )  \n",
    "\n",
    "        partial_completion = bedrock.invoke_model(\n",
    "        body=body, \n",
    "        )\n",
    "        \n",
    "        response_body = json.loads(partial_completion.get('body').read())\n",
    "\n",
    "        partial_completion= response_body.get('content')[0]['text']\n",
    "        stop_reason=response_body.get('stop_reason')\n",
    "        stop_seq = partial_completion.rstrip().endswith(\"</invoke>\")\n",
    "        \n",
    "        # Get a completion from Claude\n",
    "        # Append the completion to the end of the prommpt\n",
    "        prompt_data.append({\n",
    "                \"role\": 'assistant',\n",
    "                \"content\": [\n",
    "                    {\"type\": \"text\", \"text\": partial_completion}\n",
    "                ]})\n",
    "        \n",
    "        if stop_reason == 'stop_sequence' and stop_seq:\n",
    "            # If Claude made a function call\n",
    "            start_index = partial_completion.find(\"<function_calls>\")\n",
    "            if start_index != -1:\n",
    "                # Extract the XML Claude outputted (invoking the function)\n",
    "                extracted_text = partial_completion[start_index+16:]\n",
    "                print(extracted_text)\n",
    "                # Parse the XML find the tool name and the parameters that we need to pass to the tool\n",
    "                xml = ElementTree.fromstring(extracted_text)\n",
    "                tool_name_element = xml.find(\"tool_name\")\n",
    "                if tool_name_element is None:\n",
    "                    print(\"Unable to parse function call, invalid XML or missing 'tool_name' tag\")\n",
    "                    break\n",
    "                tool_name_from_xml = tool_name_element.text.strip()\n",
    "                parameters_xml = xml.find(\"parameters\")\n",
    "                if parameters_xml is None:\n",
    "                    print(\"Unable to parse function call, invalid XML or missing 'parameters' tag\")\n",
    "                    break\n",
    "                param_dict = etree_to_dict(parameters_xml)\n",
    "                parameters = param_dict[\"parameters\"]\n",
    "\n",
    "                # Call the tool we defined in tools.py\n",
    "                output = call_function(tool_name_from_xml, parameters)\n",
    "                \n",
    "                print(\"#################OUTPUT########################\")\n",
    "                print(output)\n",
    "                print(\"###############################################\")\n",
    "\n",
    "                # Add the stop sequence back to the prompt\n",
    "                # Add the result from calling the tool back to the prompt\n",
    "                function_result = format_result(tool_name_from_xml, output)\n",
    "                # print(function_result)\n",
    "                prompt_data.append({\n",
    "                    \"role\": 'user',\n",
    "                    \"content\": [\n",
    "                        {\"type\": \"text\", \"text\":f\"\"\"</function_calls> This is the result of the function{function_result}\"\"\"}\n",
    "                    ]})\n",
    "\n",
    "                # prompt_data += str(function_result)\n",
    "        else:\n",
    "            # If Claude did not make a function call\n",
    "            # outputted answer\n",
    "            print(partial_completion)\n",
    "            break"
   ]
  },
  {
   "cell_type": "code",
   "execution_count": 10,
   "id": "8273a732-800f-4856-99fa-3f5ed89c7205",
   "metadata": {},
   "outputs": [
    {
     "name": "stdout",
     "output_type": "stream",
     "text": [
      "\n",
      "<invoke>\n",
      "<tool_name>get_lat_long</tool_name>\n",
      "<parameters>\n",
      "<place>Paris, France</place>\n",
      "</parameters>\n",
      "</invoke>\n",
      "\n",
      "#################OUTPUT########################\n",
      "{'latitude': '48.8534951', 'longitude': '2.3483915'}\n",
      "###############################################\n",
      "\n",
      "<invoke>\n",
      "<tool_name>get_weather</tool_name>\n",
      "<parameters>\n",
      "<latitude>48.8534951</latitude>\n",
      "<longitude>2.3483915</longitude>\n",
      "</parameters>\n",
      "</invoke>\n",
      "\n",
      "#################OUTPUT########################\n",
      "{'latitude': 48.86, 'longitude': 2.3399997, 'generationtime_ms': 0.04291534423828125, 'utc_offset_seconds': 0, 'timezone': 'GMT', 'timezone_abbreviation': 'GMT', 'elevation': 43.0, 'current_weather_units': {'time': 'iso8601', 'interval': 'seconds', 'temperature': '°C', 'windspeed': 'km/h', 'winddirection': '°', 'is_day': '', 'weathercode': 'wmo code'}, 'current_weather': {'time': '2024-04-30T20:15', 'interval': 900, 'temperature': 15.2, 'windspeed': 7.4, 'winddirection': 133, 'is_day': 0, 'weathercode': 61}}\n",
      "###############################################\n",
      "Based on the weather data retrieved for the coordinates of Paris, France, here is the current weather report:\n",
      "\n",
      "Time: 2024-04-30T20:15 (8:15 PM local time)\n",
      "Temperature: 15.2°C\n",
      "Wind Speed: 7.4 km/h \n",
      "Wind Direction: 133 degrees\n",
      "Weather Condition Code: 61 (Light rain)\n",
      "\n",
      "So the current weather in Paris is light rain with a temperature around 15°C and light winds from the southeast. Let me know if you need any other details!\n",
      "--- 39.73025465011597 seconds ---\n"
     ]
    }
   ],
   "source": [
    "import time\n",
    "start_time = time.time()\n",
    "\n",
    "user_input = \"Can you check the weather for me in Paris, France?\"\n",
    "tools_string = add_tools()\n",
    "prompt = create_prompt(tools_string, user_input)\n",
    "run_loop(prompt)\n",
    "\n",
    "\n",
    "print(\"--- %s seconds ---\" % (time.time() - start_time))\n"
   ]
  }
 ],
 "metadata": {
  "availableInstances": [
   {
    "_defaultOrder": 0,
    "_isFastLaunch": true,
    "category": "General purpose",
    "gpuNum": 0,
    "hideHardwareSpecs": false,
    "memoryGiB": 4,
    "name": "ml.t3.medium",
    "vcpuNum": 2
   },
   {
    "_defaultOrder": 1,
    "_isFastLaunch": false,
    "category": "General purpose",
    "gpuNum": 0,
    "hideHardwareSpecs": false,
    "memoryGiB": 8,
    "name": "ml.t3.large",
    "vcpuNum": 2
   },
   {
    "_defaultOrder": 2,
    "_isFastLaunch": false,
    "category": "General purpose",
    "gpuNum": 0,
    "hideHardwareSpecs": false,
    "memoryGiB": 16,
    "name": "ml.t3.xlarge",
    "vcpuNum": 4
   },
   {
    "_defaultOrder": 3,
    "_isFastLaunch": false,
    "category": "General purpose",
    "gpuNum": 0,
    "hideHardwareSpecs": false,
    "memoryGiB": 32,
    "name": "ml.t3.2xlarge",
    "vcpuNum": 8
   },
   {
    "_defaultOrder": 4,
    "_isFastLaunch": true,
    "category": "General purpose",
    "gpuNum": 0,
    "hideHardwareSpecs": false,
    "memoryGiB": 8,
    "name": "ml.m5.large",
    "vcpuNum": 2
   },
   {
    "_defaultOrder": 5,
    "_isFastLaunch": false,
    "category": "General purpose",
    "gpuNum": 0,
    "hideHardwareSpecs": false,
    "memoryGiB": 16,
    "name": "ml.m5.xlarge",
    "vcpuNum": 4
   },
   {
    "_defaultOrder": 6,
    "_isFastLaunch": false,
    "category": "General purpose",
    "gpuNum": 0,
    "hideHardwareSpecs": false,
    "memoryGiB": 32,
    "name": "ml.m5.2xlarge",
    "vcpuNum": 8
   },
   {
    "_defaultOrder": 7,
    "_isFastLaunch": false,
    "category": "General purpose",
    "gpuNum": 0,
    "hideHardwareSpecs": false,
    "memoryGiB": 64,
    "name": "ml.m5.4xlarge",
    "vcpuNum": 16
   },
   {
    "_defaultOrder": 8,
    "_isFastLaunch": false,
    "category": "General purpose",
    "gpuNum": 0,
    "hideHardwareSpecs": false,
    "memoryGiB": 128,
    "name": "ml.m5.8xlarge",
    "vcpuNum": 32
   },
   {
    "_defaultOrder": 9,
    "_isFastLaunch": false,
    "category": "General purpose",
    "gpuNum": 0,
    "hideHardwareSpecs": false,
    "memoryGiB": 192,
    "name": "ml.m5.12xlarge",
    "vcpuNum": 48
   },
   {
    "_defaultOrder": 10,
    "_isFastLaunch": false,
    "category": "General purpose",
    "gpuNum": 0,
    "hideHardwareSpecs": false,
    "memoryGiB": 256,
    "name": "ml.m5.16xlarge",
    "vcpuNum": 64
   },
   {
    "_defaultOrder": 11,
    "_isFastLaunch": false,
    "category": "General purpose",
    "gpuNum": 0,
    "hideHardwareSpecs": false,
    "memoryGiB": 384,
    "name": "ml.m5.24xlarge",
    "vcpuNum": 96
   },
   {
    "_defaultOrder": 12,
    "_isFastLaunch": false,
    "category": "General purpose",
    "gpuNum": 0,
    "hideHardwareSpecs": false,
    "memoryGiB": 8,
    "name": "ml.m5d.large",
    "vcpuNum": 2
   },
   {
    "_defaultOrder": 13,
    "_isFastLaunch": false,
    "category": "General purpose",
    "gpuNum": 0,
    "hideHardwareSpecs": false,
    "memoryGiB": 16,
    "name": "ml.m5d.xlarge",
    "vcpuNum": 4
   },
   {
    "_defaultOrder": 14,
    "_isFastLaunch": false,
    "category": "General purpose",
    "gpuNum": 0,
    "hideHardwareSpecs": false,
    "memoryGiB": 32,
    "name": "ml.m5d.2xlarge",
    "vcpuNum": 8
   },
   {
    "_defaultOrder": 15,
    "_isFastLaunch": false,
    "category": "General purpose",
    "gpuNum": 0,
    "hideHardwareSpecs": false,
    "memoryGiB": 64,
    "name": "ml.m5d.4xlarge",
    "vcpuNum": 16
   },
   {
    "_defaultOrder": 16,
    "_isFastLaunch": false,
    "category": "General purpose",
    "gpuNum": 0,
    "hideHardwareSpecs": false,
    "memoryGiB": 128,
    "name": "ml.m5d.8xlarge",
    "vcpuNum": 32
   },
   {
    "_defaultOrder": 17,
    "_isFastLaunch": false,
    "category": "General purpose",
    "gpuNum": 0,
    "hideHardwareSpecs": false,
    "memoryGiB": 192,
    "name": "ml.m5d.12xlarge",
    "vcpuNum": 48
   },
   {
    "_defaultOrder": 18,
    "_isFastLaunch": false,
    "category": "General purpose",
    "gpuNum": 0,
    "hideHardwareSpecs": false,
    "memoryGiB": 256,
    "name": "ml.m5d.16xlarge",
    "vcpuNum": 64
   },
   {
    "_defaultOrder": 19,
    "_isFastLaunch": false,
    "category": "General purpose",
    "gpuNum": 0,
    "hideHardwareSpecs": false,
    "memoryGiB": 384,
    "name": "ml.m5d.24xlarge",
    "vcpuNum": 96
   },
   {
    "_defaultOrder": 20,
    "_isFastLaunch": false,
    "category": "General purpose",
    "gpuNum": 0,
    "hideHardwareSpecs": true,
    "memoryGiB": 0,
    "name": "ml.geospatial.interactive",
    "supportedImageNames": [
     "sagemaker-geospatial-v1-0"
    ],
    "vcpuNum": 0
   },
   {
    "_defaultOrder": 21,
    "_isFastLaunch": true,
    "category": "Compute optimized",
    "gpuNum": 0,
    "hideHardwareSpecs": false,
    "memoryGiB": 4,
    "name": "ml.c5.large",
    "vcpuNum": 2
   },
   {
    "_defaultOrder": 22,
    "_isFastLaunch": false,
    "category": "Compute optimized",
    "gpuNum": 0,
    "hideHardwareSpecs": false,
    "memoryGiB": 8,
    "name": "ml.c5.xlarge",
    "vcpuNum": 4
   },
   {
    "_defaultOrder": 23,
    "_isFastLaunch": false,
    "category": "Compute optimized",
    "gpuNum": 0,
    "hideHardwareSpecs": false,
    "memoryGiB": 16,
    "name": "ml.c5.2xlarge",
    "vcpuNum": 8
   },
   {
    "_defaultOrder": 24,
    "_isFastLaunch": false,
    "category": "Compute optimized",
    "gpuNum": 0,
    "hideHardwareSpecs": false,
    "memoryGiB": 32,
    "name": "ml.c5.4xlarge",
    "vcpuNum": 16
   },
   {
    "_defaultOrder": 25,
    "_isFastLaunch": false,
    "category": "Compute optimized",
    "gpuNum": 0,
    "hideHardwareSpecs": false,
    "memoryGiB": 72,
    "name": "ml.c5.9xlarge",
    "vcpuNum": 36
   },
   {
    "_defaultOrder": 26,
    "_isFastLaunch": false,
    "category": "Compute optimized",
    "gpuNum": 0,
    "hideHardwareSpecs": false,
    "memoryGiB": 96,
    "name": "ml.c5.12xlarge",
    "vcpuNum": 48
   },
   {
    "_defaultOrder": 27,
    "_isFastLaunch": false,
    "category": "Compute optimized",
    "gpuNum": 0,
    "hideHardwareSpecs": false,
    "memoryGiB": 144,
    "name": "ml.c5.18xlarge",
    "vcpuNum": 72
   },
   {
    "_defaultOrder": 28,
    "_isFastLaunch": false,
    "category": "Compute optimized",
    "gpuNum": 0,
    "hideHardwareSpecs": false,
    "memoryGiB": 192,
    "name": "ml.c5.24xlarge",
    "vcpuNum": 96
   },
   {
    "_defaultOrder": 29,
    "_isFastLaunch": true,
    "category": "Accelerated computing",
    "gpuNum": 1,
    "hideHardwareSpecs": false,
    "memoryGiB": 16,
    "name": "ml.g4dn.xlarge",
    "vcpuNum": 4
   },
   {
    "_defaultOrder": 30,
    "_isFastLaunch": false,
    "category": "Accelerated computing",
    "gpuNum": 1,
    "hideHardwareSpecs": false,
    "memoryGiB": 32,
    "name": "ml.g4dn.2xlarge",
    "vcpuNum": 8
   },
   {
    "_defaultOrder": 31,
    "_isFastLaunch": false,
    "category": "Accelerated computing",
    "gpuNum": 1,
    "hideHardwareSpecs": false,
    "memoryGiB": 64,
    "name": "ml.g4dn.4xlarge",
    "vcpuNum": 16
   },
   {
    "_defaultOrder": 32,
    "_isFastLaunch": false,
    "category": "Accelerated computing",
    "gpuNum": 1,
    "hideHardwareSpecs": false,
    "memoryGiB": 128,
    "name": "ml.g4dn.8xlarge",
    "vcpuNum": 32
   },
   {
    "_defaultOrder": 33,
    "_isFastLaunch": false,
    "category": "Accelerated computing",
    "gpuNum": 4,
    "hideHardwareSpecs": false,
    "memoryGiB": 192,
    "name": "ml.g4dn.12xlarge",
    "vcpuNum": 48
   },
   {
    "_defaultOrder": 34,
    "_isFastLaunch": false,
    "category": "Accelerated computing",
    "gpuNum": 1,
    "hideHardwareSpecs": false,
    "memoryGiB": 256,
    "name": "ml.g4dn.16xlarge",
    "vcpuNum": 64
   },
   {
    "_defaultOrder": 35,
    "_isFastLaunch": false,
    "category": "Accelerated computing",
    "gpuNum": 1,
    "hideHardwareSpecs": false,
    "memoryGiB": 61,
    "name": "ml.p3.2xlarge",
    "vcpuNum": 8
   },
   {
    "_defaultOrder": 36,
    "_isFastLaunch": false,
    "category": "Accelerated computing",
    "gpuNum": 4,
    "hideHardwareSpecs": false,
    "memoryGiB": 244,
    "name": "ml.p3.8xlarge",
    "vcpuNum": 32
   },
   {
    "_defaultOrder": 37,
    "_isFastLaunch": false,
    "category": "Accelerated computing",
    "gpuNum": 8,
    "hideHardwareSpecs": false,
    "memoryGiB": 488,
    "name": "ml.p3.16xlarge",
    "vcpuNum": 64
   },
   {
    "_defaultOrder": 38,
    "_isFastLaunch": false,
    "category": "Accelerated computing",
    "gpuNum": 8,
    "hideHardwareSpecs": false,
    "memoryGiB": 768,
    "name": "ml.p3dn.24xlarge",
    "vcpuNum": 96
   },
   {
    "_defaultOrder": 39,
    "_isFastLaunch": false,
    "category": "Memory Optimized",
    "gpuNum": 0,
    "hideHardwareSpecs": false,
    "memoryGiB": 16,
    "name": "ml.r5.large",
    "vcpuNum": 2
   },
   {
    "_defaultOrder": 40,
    "_isFastLaunch": false,
    "category": "Memory Optimized",
    "gpuNum": 0,
    "hideHardwareSpecs": false,
    "memoryGiB": 32,
    "name": "ml.r5.xlarge",
    "vcpuNum": 4
   },
   {
    "_defaultOrder": 41,
    "_isFastLaunch": false,
    "category": "Memory Optimized",
    "gpuNum": 0,
    "hideHardwareSpecs": false,
    "memoryGiB": 64,
    "name": "ml.r5.2xlarge",
    "vcpuNum": 8
   },
   {
    "_defaultOrder": 42,
    "_isFastLaunch": false,
    "category": "Memory Optimized",
    "gpuNum": 0,
    "hideHardwareSpecs": false,
    "memoryGiB": 128,
    "name": "ml.r5.4xlarge",
    "vcpuNum": 16
   },
   {
    "_defaultOrder": 43,
    "_isFastLaunch": false,
    "category": "Memory Optimized",
    "gpuNum": 0,
    "hideHardwareSpecs": false,
    "memoryGiB": 256,
    "name": "ml.r5.8xlarge",
    "vcpuNum": 32
   },
   {
    "_defaultOrder": 44,
    "_isFastLaunch": false,
    "category": "Memory Optimized",
    "gpuNum": 0,
    "hideHardwareSpecs": false,
    "memoryGiB": 384,
    "name": "ml.r5.12xlarge",
    "vcpuNum": 48
   },
   {
    "_defaultOrder": 45,
    "_isFastLaunch": false,
    "category": "Memory Optimized",
    "gpuNum": 0,
    "hideHardwareSpecs": false,
    "memoryGiB": 512,
    "name": "ml.r5.16xlarge",
    "vcpuNum": 64
   },
   {
    "_defaultOrder": 46,
    "_isFastLaunch": false,
    "category": "Memory Optimized",
    "gpuNum": 0,
    "hideHardwareSpecs": false,
    "memoryGiB": 768,
    "name": "ml.r5.24xlarge",
    "vcpuNum": 96
   },
   {
    "_defaultOrder": 47,
    "_isFastLaunch": false,
    "category": "Accelerated computing",
    "gpuNum": 1,
    "hideHardwareSpecs": false,
    "memoryGiB": 16,
    "name": "ml.g5.xlarge",
    "vcpuNum": 4
   },
   {
    "_defaultOrder": 48,
    "_isFastLaunch": false,
    "category": "Accelerated computing",
    "gpuNum": 1,
    "hideHardwareSpecs": false,
    "memoryGiB": 32,
    "name": "ml.g5.2xlarge",
    "vcpuNum": 8
   },
   {
    "_defaultOrder": 49,
    "_isFastLaunch": false,
    "category": "Accelerated computing",
    "gpuNum": 1,
    "hideHardwareSpecs": false,
    "memoryGiB": 64,
    "name": "ml.g5.4xlarge",
    "vcpuNum": 16
   },
   {
    "_defaultOrder": 50,
    "_isFastLaunch": false,
    "category": "Accelerated computing",
    "gpuNum": 1,
    "hideHardwareSpecs": false,
    "memoryGiB": 128,
    "name": "ml.g5.8xlarge",
    "vcpuNum": 32
   },
   {
    "_defaultOrder": 51,
    "_isFastLaunch": false,
    "category": "Accelerated computing",
    "gpuNum": 1,
    "hideHardwareSpecs": false,
    "memoryGiB": 256,
    "name": "ml.g5.16xlarge",
    "vcpuNum": 64
   },
   {
    "_defaultOrder": 52,
    "_isFastLaunch": false,
    "category": "Accelerated computing",
    "gpuNum": 4,
    "hideHardwareSpecs": false,
    "memoryGiB": 192,
    "name": "ml.g5.12xlarge",
    "vcpuNum": 48
   },
   {
    "_defaultOrder": 53,
    "_isFastLaunch": false,
    "category": "Accelerated computing",
    "gpuNum": 4,
    "hideHardwareSpecs": false,
    "memoryGiB": 384,
    "name": "ml.g5.24xlarge",
    "vcpuNum": 96
   },
   {
    "_defaultOrder": 54,
    "_isFastLaunch": false,
    "category": "Accelerated computing",
    "gpuNum": 8,
    "hideHardwareSpecs": false,
    "memoryGiB": 768,
    "name": "ml.g5.48xlarge",
    "vcpuNum": 192
   },
   {
    "_defaultOrder": 55,
    "_isFastLaunch": false,
    "category": "Accelerated computing",
    "gpuNum": 8,
    "hideHardwareSpecs": false,
    "memoryGiB": 1152,
    "name": "ml.p4d.24xlarge",
    "vcpuNum": 96
   },
   {
    "_defaultOrder": 56,
    "_isFastLaunch": false,
    "category": "Accelerated computing",
    "gpuNum": 8,
    "hideHardwareSpecs": false,
    "memoryGiB": 1152,
    "name": "ml.p4de.24xlarge",
    "vcpuNum": 96
   },
   {
    "_defaultOrder": 57,
    "_isFastLaunch": false,
    "category": "Accelerated computing",
    "gpuNum": 0,
    "hideHardwareSpecs": false,
    "memoryGiB": 32,
    "name": "ml.trn1.2xlarge",
    "vcpuNum": 8
   },
   {
    "_defaultOrder": 58,
    "_isFastLaunch": false,
    "category": "Accelerated computing",
    "gpuNum": 0,
    "hideHardwareSpecs": false,
    "memoryGiB": 512,
    "name": "ml.trn1.32xlarge",
    "vcpuNum": 128
   },
   {
    "_defaultOrder": 59,
    "_isFastLaunch": false,
    "category": "Accelerated computing",
    "gpuNum": 0,
    "hideHardwareSpecs": false,
    "memoryGiB": 512,
    "name": "ml.trn1n.32xlarge",
    "vcpuNum": 128
   }
  ],
  "instance_type": "ml.t3.medium",
  "kernelspec": {
   "display_name": "Python 3 (Data Science 3.0)",
   "language": "python",
   "name": "python3__SAGEMAKER_INTERNAL__arn:aws:sagemaker:us-west-2:236514542706:image/sagemaker-data-science-310-v1"
  },
  "language_info": {
   "codemirror_mode": {
    "name": "ipython",
    "version": 3
   },
   "file_extension": ".py",
   "mimetype": "text/x-python",
   "name": "python",
   "nbconvert_exporter": "python",
   "pygments_lexer": "ipython3",
   "version": "3.10.6"
  }
 },
 "nbformat": 4,
 "nbformat_minor": 5
}
